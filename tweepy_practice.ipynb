{
 "cells": [
  {
   "cell_type": "code",
   "execution_count": 2,
   "metadata": {},
   "outputs": [
    {
     "name": "stdout",
     "output_type": "stream",
     "text": [
      "tjtKIsH2dHiNVOhdHaEmalexL\n",
      "0454sYUFrfjYgRuBTWAvTkGJPIq5h3g0Y9NB3aF2GP2eL65w2B\n",
      "483091756-g9Bu3GDU5DCHr2rkVZGiNoz7rU0x6BN3nQ7DkQSx\n",
      "QmP51JycR9ciGaSiDFcobPt6dHYdKuLZvdMUV4At3EN0n\n"
     ]
    }
   ],
   "source": [
    "import TwitterAPIKey\n",
    "\n",
    "CK = TwitterAPIKey.CONSUMER_KEY\n",
    "CS = TwitterAPIKey.CONSUMER_SECRET\n",
    "AT = TwitterAPIKey.ACCESS_TOKEN\n",
    "AS = TwitterAPIKey.ACCESS_TOKEN_SECRET\n",
    "\n",
    "print(CK)\n",
    "print(CS)\n",
    "print(AT)\n",
    "print(AS)"
   ]
  },
  {
   "cell_type": "code",
   "execution_count": 4,
   "metadata": {},
   "outputs": [
    {
     "data": {
      "text/plain": [
       "Status(_api=<tweepy.api.API object at 0x11048d5f8>, _json={'created_at': 'Thu May 16 07:45:17 +0000 2019', 'id': 1128929395970793472, 'id_str': '1128929395970793472', 'text': 'Tweepytest', 'truncated': False, 'entities': {'hashtags': [], 'symbols': [], 'user_mentions': [], 'urls': []}, 'source': '<a href=\"https://twitter.com/youjiajia2011\" rel=\"nofollow\">partypess</a>', 'in_reply_to_status_id': None, 'in_reply_to_status_id_str': None, 'in_reply_to_user_id': None, 'in_reply_to_user_id_str': None, 'in_reply_to_screen_name': None, 'user': {'id': 483091756, 'id_str': '483091756', 'name': '由卡', 'screen_name': 'youjiajia2011', 'location': 'haerbin', 'description': '為眾人抱薪者， 不可使其凍斃於風雪。 為自由開路者， 不可使其困頓於荊棘。 \\u200b\\u200b\\u200b', 'url': None, 'entities': {'description': {'urls': []}}, 'protected': False, 'followers_count': 11, 'friends_count': 71, 'listed_count': 0, 'created_at': 'Sat Feb 04 16:45:37 +0000 2012', 'favourites_count': 2, 'utc_offset': None, 'time_zone': None, 'geo_enabled': False, 'verified': False, 'statuses_count': 89, 'lang': 'zh-cn', 'contributors_enabled': False, 'is_translator': False, 'is_translation_enabled': False, 'profile_background_color': 'C0DEED', 'profile_background_image_url': 'http://abs.twimg.com/images/themes/theme1/bg.png', 'profile_background_image_url_https': 'https://abs.twimg.com/images/themes/theme1/bg.png', 'profile_background_tile': False, 'profile_image_url': 'http://pbs.twimg.com/profile_images/1803919358/___normal.jpg', 'profile_image_url_https': 'https://pbs.twimg.com/profile_images/1803919358/___normal.jpg', 'profile_link_color': '1DA1F2', 'profile_sidebar_border_color': 'C0DEED', 'profile_sidebar_fill_color': 'DDEEF6', 'profile_text_color': '333333', 'profile_use_background_image': True, 'has_extended_profile': False, 'default_profile': True, 'default_profile_image': False, 'following': False, 'follow_request_sent': False, 'notifications': False, 'translator_type': 'none'}, 'geo': None, 'coordinates': None, 'place': None, 'contributors': None, 'is_quote_status': False, 'retweet_count': 0, 'favorite_count': 0, 'favorited': False, 'retweeted': False, 'lang': 'en'}, created_at=datetime.datetime(2019, 5, 16, 7, 45, 17), id=1128929395970793472, id_str='1128929395970793472', text='Tweepytest', truncated=False, entities={'hashtags': [], 'symbols': [], 'user_mentions': [], 'urls': []}, source='partypess', source_url='https://twitter.com/youjiajia2011', in_reply_to_status_id=None, in_reply_to_status_id_str=None, in_reply_to_user_id=None, in_reply_to_user_id_str=None, in_reply_to_screen_name=None, author=User(_api=<tweepy.api.API object at 0x11048d5f8>, _json={'id': 483091756, 'id_str': '483091756', 'name': '由卡', 'screen_name': 'youjiajia2011', 'location': 'haerbin', 'description': '為眾人抱薪者， 不可使其凍斃於風雪。 為自由開路者， 不可使其困頓於荊棘。 \\u200b\\u200b\\u200b', 'url': None, 'entities': {'description': {'urls': []}}, 'protected': False, 'followers_count': 11, 'friends_count': 71, 'listed_count': 0, 'created_at': 'Sat Feb 04 16:45:37 +0000 2012', 'favourites_count': 2, 'utc_offset': None, 'time_zone': None, 'geo_enabled': False, 'verified': False, 'statuses_count': 89, 'lang': 'zh-cn', 'contributors_enabled': False, 'is_translator': False, 'is_translation_enabled': False, 'profile_background_color': 'C0DEED', 'profile_background_image_url': 'http://abs.twimg.com/images/themes/theme1/bg.png', 'profile_background_image_url_https': 'https://abs.twimg.com/images/themes/theme1/bg.png', 'profile_background_tile': False, 'profile_image_url': 'http://pbs.twimg.com/profile_images/1803919358/___normal.jpg', 'profile_image_url_https': 'https://pbs.twimg.com/profile_images/1803919358/___normal.jpg', 'profile_link_color': '1DA1F2', 'profile_sidebar_border_color': 'C0DEED', 'profile_sidebar_fill_color': 'DDEEF6', 'profile_text_color': '333333', 'profile_use_background_image': True, 'has_extended_profile': False, 'default_profile': True, 'default_profile_image': False, 'following': False, 'follow_request_sent': False, 'notifications': False, 'translator_type': 'none'}, id=483091756, id_str='483091756', name='由卡', screen_name='youjiajia2011', location='haerbin', description='為眾人抱薪者， 不可使其凍斃於風雪。 為自由開路者， 不可使其困頓於荊棘。 \\u200b\\u200b\\u200b', url=None, entities={'description': {'urls': []}}, protected=False, followers_count=11, friends_count=71, listed_count=0, created_at=datetime.datetime(2012, 2, 4, 16, 45, 37), favourites_count=2, utc_offset=None, time_zone=None, geo_enabled=False, verified=False, statuses_count=89, lang='zh-cn', contributors_enabled=False, is_translator=False, is_translation_enabled=False, profile_background_color='C0DEED', profile_background_image_url='http://abs.twimg.com/images/themes/theme1/bg.png', profile_background_image_url_https='https://abs.twimg.com/images/themes/theme1/bg.png', profile_background_tile=False, profile_image_url='http://pbs.twimg.com/profile_images/1803919358/___normal.jpg', profile_image_url_https='https://pbs.twimg.com/profile_images/1803919358/___normal.jpg', profile_link_color='1DA1F2', profile_sidebar_border_color='C0DEED', profile_sidebar_fill_color='DDEEF6', profile_text_color='333333', profile_use_background_image=True, has_extended_profile=False, default_profile=True, default_profile_image=False, following=False, follow_request_sent=False, notifications=False, translator_type='none'), user=User(_api=<tweepy.api.API object at 0x11048d5f8>, _json={'id': 483091756, 'id_str': '483091756', 'name': '由卡', 'screen_name': 'youjiajia2011', 'location': 'haerbin', 'description': '為眾人抱薪者， 不可使其凍斃於風雪。 為自由開路者， 不可使其困頓於荊棘。 \\u200b\\u200b\\u200b', 'url': None, 'entities': {'description': {'urls': []}}, 'protected': False, 'followers_count': 11, 'friends_count': 71, 'listed_count': 0, 'created_at': 'Sat Feb 04 16:45:37 +0000 2012', 'favourites_count': 2, 'utc_offset': None, 'time_zone': None, 'geo_enabled': False, 'verified': False, 'statuses_count': 89, 'lang': 'zh-cn', 'contributors_enabled': False, 'is_translator': False, 'is_translation_enabled': False, 'profile_background_color': 'C0DEED', 'profile_background_image_url': 'http://abs.twimg.com/images/themes/theme1/bg.png', 'profile_background_image_url_https': 'https://abs.twimg.com/images/themes/theme1/bg.png', 'profile_background_tile': False, 'profile_image_url': 'http://pbs.twimg.com/profile_images/1803919358/___normal.jpg', 'profile_image_url_https': 'https://pbs.twimg.com/profile_images/1803919358/___normal.jpg', 'profile_link_color': '1DA1F2', 'profile_sidebar_border_color': 'C0DEED', 'profile_sidebar_fill_color': 'DDEEF6', 'profile_text_color': '333333', 'profile_use_background_image': True, 'has_extended_profile': False, 'default_profile': True, 'default_profile_image': False, 'following': False, 'follow_request_sent': False, 'notifications': False, 'translator_type': 'none'}, id=483091756, id_str='483091756', name='由卡', screen_name='youjiajia2011', location='haerbin', description='為眾人抱薪者， 不可使其凍斃於風雪。 為自由開路者， 不可使其困頓於荊棘。 \\u200b\\u200b\\u200b', url=None, entities={'description': {'urls': []}}, protected=False, followers_count=11, friends_count=71, listed_count=0, created_at=datetime.datetime(2012, 2, 4, 16, 45, 37), favourites_count=2, utc_offset=None, time_zone=None, geo_enabled=False, verified=False, statuses_count=89, lang='zh-cn', contributors_enabled=False, is_translator=False, is_translation_enabled=False, profile_background_color='C0DEED', profile_background_image_url='http://abs.twimg.com/images/themes/theme1/bg.png', profile_background_image_url_https='https://abs.twimg.com/images/themes/theme1/bg.png', profile_background_tile=False, profile_image_url='http://pbs.twimg.com/profile_images/1803919358/___normal.jpg', profile_image_url_https='https://pbs.twimg.com/profile_images/1803919358/___normal.jpg', profile_link_color='1DA1F2', profile_sidebar_border_color='C0DEED', profile_sidebar_fill_color='DDEEF6', profile_text_color='333333', profile_use_background_image=True, has_extended_profile=False, default_profile=True, default_profile_image=False, following=False, follow_request_sent=False, notifications=False, translator_type='none'), geo=None, coordinates=None, place=None, contributors=None, is_quote_status=False, retweet_count=0, favorite_count=0, favorited=False, retweeted=False, lang='en')"
      ]
     },
     "execution_count": 4,
     "metadata": {},
     "output_type": "execute_result"
    }
   ],
   "source": [
    "import TwitterAPIKey\n",
    "import tweepy\n",
    "\n",
    "CK = TwitterAPIKey.CONSUMER_KEY\n",
    "CS = TwitterAPIKey.CONSUMER_SECRET\n",
    "AT = TwitterAPIKey.ACCESS_TOKEN\n",
    "AS = TwitterAPIKey.ACCESS_TOKEN_SECRET\n",
    "\n",
    "auth = tweepy.OAuthHandler(CK,CS)\n",
    "auth.set_access_token(AT,AS)\n",
    "api = tweepy.API(auth)\n",
    "\n",
    "api.update_status(status='Tweepytest')"
   ]
  },
  {
   "cell_type": "code",
   "execution_count": 7,
   "metadata": {},
   "outputs": [
    {
     "name": "stdout",
     "output_type": "stream",
     "text": [
      "ID: 169480493\n",
      "From: 2010-07-22 12:58:30\n",
      "Screen Name: nikkei\n",
      "User Name: 日本経済新聞 電子版\n",
      "Num.of tweets: 242187\n",
      "Num of follows: 43\n",
      "Num of followers: 2978084\n",
      "Verified: True\n"
     ]
    }
   ],
   "source": [
    "import tweepy\n",
    "import TwitterAPIKey\n",
    "CK = TwitterAPIKey.CONSUMER_KEY\n",
    "CS = TwitterAPIKey.CONSUMER_SECRET\n",
    "\n",
    "\n",
    "auth = tweepy.OAuthHandler(CK,CS)\n",
    "api = tweepy.API(auth)\n",
    "\n",
    "user = api.get_user('nikkei')\n",
    "\n",
    "print('ID:',user.id)\n",
    "print('From:',user.created_at)\n",
    "print('Screen Name:',user.screen_name)\n",
    "print('User Name:',user.name)\n",
    "print('Num.of tweets:',user.statuses_count)\n",
    "print('Num of follows:',user.friends_count)\n",
    "print('Num of followers:',user.followers_count)\n",
    "print('Verified:',user.verified)"
   ]
  },
  {
   "cell_type": "code",
   "execution_count": 8,
   "metadata": {},
   "outputs": [
    {
     "name": "stdout",
     "output_type": "stream",
     "text": [
      "0 亡き彼女が導いたカンヌ　僧侶ら製作の「典座」上映 https://t.co/QxRnPQ5WW2\n",
      "1 福島第一の津波対策、学術会議が検証「安全に対し慢心」 https://t.co/0BB5w2BkpA\n",
      "2 大和のネット証券新会社、戦略は　スマホ取引で顧客開拓 https://t.co/g2qw9osedO\n",
      "3 「解散したい衝動に駆られると思う」野田前首相 https://t.co/Si5TUNeYVc\n",
      "4 大阪府警のヘリ、ネジ５本を紛失　負傷者の情報なし https://t.co/v1pVesUGEp\n",
      "5 元立命館大准教授、イラクで拘束　テロ実行犯勧誘の疑い https://t.co/0NuJakPZx0\n",
      "6 後ずさる部員に平手打ち　尼崎市教委「体罰容認の空気」 https://t.co/RAprpy1HLs\n",
      "7 建設中住宅からトイレ一式盗んだ疑い　配管業者ら逮捕 https://t.co/Xk5KRITJUh\n",
      "8 秋篠宮ご夫妻ら、コンサート鑑賞　ハンガリー外交記念 https://t.co/W0jbfyBL2E\n",
      "9 ４００人分の学生ローン肩代わり　米資産家が４４億円 https://t.co/8PfBT1ubBx\n",
      "10 「地面師」詐欺、３被告に求刑　東京地裁で結審 https://t.co/4i0ZUBmYm8\n",
      "11 奄美大島で新種のラン発見「アマミムヨウラン」　鹿児島 https://t.co/cqWavy8ZUT\n",
      "12 ケフィア元代表、債権者集会で謝罪　資産はわずかと判明 https://t.co/pxWCjApTpt\n",
      "13 「６万円の恩人」に再会　連絡先も聞かず帰省代渡す https://t.co/DLz7slg2MR\n",
      "14 ディズニーシー、新エリア名決まる　「アナ雪」施設など https://t.co/9DPHkbMy6f\n",
      "15 舞う座布団に備えＳＰ配置　トランプ氏、升席で観戦へ https://t.co/he9DPsN0vS\n",
      "16 仲邑菫初段、世界戦デビュー　中国トップ棋士に敗れる https://t.co/7UGkcWBg57\n",
      "17 中国でのスパイ行為認定、邦人に懲役６年　友好団体幹部 https://t.co/q9sPRF07tu\n",
      "18 お散歩やめる？「そうじゃない」　保育の現場、続く模索 https://t.co/DeZSYwaBuQ\n",
      "19 宇宙最古の光、捉えられるか　ＪＡＸＡ、衛星打ち上げへ https://t.co/0GWxNYexAi\n"
     ]
    }
   ],
   "source": [
    "import tweepy\n",
    "import TwitterAPIKey\n",
    "CK = TwitterAPIKey.CONSUMER_KEY\n",
    "CS = TwitterAPIKey.CONSUMER_SECRET\n",
    "\n",
    "\n",
    "auth = tweepy.OAuthHandler(CK,CS)\n",
    "api = tweepy.API(auth)\n",
    "\n",
    "user_timeline = api.user_timeline(count=20,page=1,screen_name='asahi')\n",
    "for i,tw in enumerate(user_timeline):\n",
    "    print(i,tw.text)"
   ]
  },
  {
   "cell_type": "code",
   "execution_count": 12,
   "metadata": {},
   "outputs": [
    {
     "name": "stdout",
     "output_type": "stream",
     "text": [
      "2019-05-21 15:02:08 あっちゃん/atsumi atsumiee ざおだおてぃえん　だーしゅえー\n",
      "早稻田大学\n",
      "\n",
      "2外で話していた記憶が蘇った😂\n",
      "\n",
      "#TheUPDATE の早慶戦\n",
      "2019-05-21 13:32:43 真善狠 fp7L2FMr5b4oDXi RT @oslojou2: 【厲害了，我的國，習近平主席可以打稀土戰！】\n",
      "2018年4月《日本經濟新聞》報道，日本早稻田大學講師高谷雄太郎和東京大學教授加藤泰浩等人組成的研究小組宣布，在日本的南鳥島發現稀土礦，存量超過1,600萬噸，可讓全球混能車製造業使用730年，讓全球雷射…\n",
      "2019-05-21 11:01:03 周恭 oslojou2 【厲害了，我的國，習近平主席可以打稀土戰！】\n",
      "2018年4月《日本經濟新聞》報道，日本早稻田大學講師高谷雄太郎和東京大學教授加藤泰浩等人組成的研究小組宣布，在日本的南鳥島發現稀土礦，存量超過1,600萬噸，可讓全球混能車製造業使用… https://t.co/NNPxKSSi7x\n",
      "2019-05-21 04:43:45 夜夜托泥 fire_grandma 2018/04/11 日本早稻田大學講師高谷雄太郎和東京大學教授加藤泰浩等人組成的研究小組宣佈，日本最東端的南鳥島（屬於東京都）周邊海底的稀土資源量超過1600萬噸，可供全球使用數百年。\n",
      "https://t.co/VkUXnww8ay\n",
      "2019-05-21 01:55:05 云中岳 actic1989 日本早稻田大学讲师高谷雄太郎和东京大学教授加藤泰浩等人组成的研究小组2018年宣布，在日本最东端的南鸟岛周边海底发现稀土矿，存量超过1,600万吨，可让全球混能车制造业使用730年，让全球雷射器制造业使用780年。 https://t.co/aNw3zYBztH\n",
      "2019-05-21 01:35:18 欣然～夏日清凉 The5689 @truth8964 @T_ohono @jiujiu123456789 @yining9999 @hellofromwei @moonlamps1982 上智大学新闻学教授岛田先生讲：\n",
      "日本电视剧充满人间味道、\n",
      "韩国电视剧充满爱… https://t.co/ghhlz3iQ7m\n",
      "2019-05-20 17:15:14 とうゆ BklC2RMBA7N1sxP RT @okuma_waseda: 西北资本 早稻田森林\n",
      "高耸的屋顶是我们的母校\n",
      "你知道我们日常的愿望\n",
      "进取的精神 独立的学术\n",
      "久遠的理想不会忘记这个世界\n",
      "再看看我们的闪亮手线\n",
      "早稻田 早稻田 早稻田 早稻田\n",
      "早稻田 早稻田 早稻田\n",
      "2019-05-20 13:49:14 张三疯 rFSlDPglMQl2nOe @PDChina 我就想问问归报报道的麻城建国早稻田亩产36900多斤，你们自己相信吗？\n",
      "2019-05-20 13:32:45 ぽてと丸 8000x8R RT @okuma_waseda: 西北资本 早稻田森林\n",
      "高耸的屋顶是我们的母校\n",
      "你知道我们日常的愿望\n",
      "进取的精神 独立的学术\n",
      "久遠的理想不会忘记这个世界\n",
      "再看看我们的闪亮手线\n",
      "早稻田 早稻田 早稻田 早稻田\n",
      "早稻田 早稻田 早稻田\n",
      "2019-05-20 13:30:51 大隈重信 okuma_waseda 西北资本 早稻田森林\n",
      "高耸的屋顶是我们的母校\n",
      "你知道我们日常的愿望\n",
      "进取的精神 独立的学术\n",
      "久遠的理想不会忘记这个世界\n",
      "再看看我们的闪亮手线\n",
      "早稻田 早稻田 早稻田 早稻田\n",
      "早稻田 早稻田 早稻田\n"
     ]
    }
   ],
   "source": [
    "import tweepy\n",
    "import TwitterAPIKey\n",
    "CK = TwitterAPIKey.CONSUMER_KEY\n",
    "CS = TwitterAPIKey.CONSUMER_SECRET\n",
    "\n",
    "\n",
    "auth = tweepy.OAuthHandler(CK,CS)\n",
    "api = tweepy.API(auth)\n",
    "\n",
    "keyword = '早稻田'\n",
    "search_count = 10\n",
    "search_result = api.search(keyword,count=search_count)\n",
    "for tw in search_result:\n",
    "    print(str(tw.created_at),tw.user.name,tw.user.screen_name,tw.text)"
   ]
  },
  {
   "cell_type": "code",
   "execution_count": 13,
   "metadata": {},
   "outputs": [
    {
     "name": "stdout",
     "output_type": "stream",
     "text": [
      "4044130819 ntrain6_n N.TRAIN®︎\n",
      "1112273906495217664 EtS42yAC9wGnO0E noopy\n",
      "4602843914 jrskiski2019 たかこう/いんちょー\n",
      "994143117078020096 waseda_j_broad 早大生限定就活支援(就職ウォーカーNet公式)\n",
      "850853218888196098 Stevengezp カツ\n",
      "781868730221404165 anestpec IN\n",
      "90574344 mttsun もとつん\n",
      "1125691055347650560 05mfg00 第三の⑤(まるご) ⌘AF35 EF8改 RPS13★☆\n",
      "803791127815954433 oNgvWRn5QqVXnnP たかぼー\n",
      "1052497441608454145 Yutetsubus YUTETSU BUS YUBARI\n",
      "807248899215761408 Blueamark Blue（マーク）A@くすぐり\n",
      "726628203062677505 Hokkaido_Kiha40 大ちゃん 鉄道垢\n",
      "848099731632824321 gWrchF3CaVbyEQR ラインハルト@115湘南色\n",
      "1066281915878010880 KaiWrc WRC web担当 【公式？】\n",
      "1123094056156839936 sophiatraffic 上智大学交通研究会\n",
      "1500764210 518Chiro ピーポくん\n",
      "1118854891722555394 Hazuki_Beatle_F オーガサス盈月\n",
      "1118843430161879040 WRC_waseda_ こばまな(WRC)\n",
      "1118544402677293056 kitakoku2 きたこく2\n",
      "1099508419013181440 K88lEjURAQcrYsB 土佐いごっそう\n"
     ]
    }
   ],
   "source": [
    "import tweepy\n",
    "import TwitterAPIKey\n",
    "CK = TwitterAPIKey.CONSUMER_KEY\n",
    "CS = TwitterAPIKey.CONSUMER_SECRET\n",
    "\n",
    "\n",
    "auth = tweepy.OAuthHandler(CK,CS)\n",
    "api = tweepy.API(auth)\n",
    "\n",
    "user = api.get_user('wasedarail')\n",
    "flws = user.followers()\n",
    "for i,flw in enumerate(flws):\n",
    "    print(flw.id,flw.screen_name,flw.name)"
   ]
  },
  {
   "cell_type": "code",
   "execution_count": 14,
   "metadata": {},
   "outputs": [
    {
     "name": "stdout",
     "output_type": "stream",
     "text": [
      "1123094056156839936 sophiatraffic 上智大学交通研究会\n",
      "983107483580313602 matunobu0330 ピコピコポン\n",
      "124175605 ejiken2 早稲田大学 エジプト文化研究会\n",
      "3246761563 iba_tekken657 茨城大学鉄道研究会\n",
      "978418259799171072 shizudai_train 静岡大学浜松旅行系サークル\n",
      "832198136110002176 TCUJSH_RAIL 東京都市大学付属中高鉄道研究部\n",
      "1372637322 TekkenSummit てっけんサミット実行委員会\n",
      "832520096975171584 AwadenTokushima 阿波電鉄プロジェクト （徳島大学）\n",
      "985844565159497728 EikoTekken 栄光学園鉄道研究会\n",
      "938251946967777280 kmgms_trc 駒込学園  写真同好会(交通研究部門)\n",
      "3244724762 dokmedtetsu 獨協医科大学 鐵道研究愛好会\n",
      "853406290697113601 iwate_tetsuken 岩手大学鉄道研究会\n",
      "858884419460841472 lovlocalstadium 早稲田地方球場同好会\n",
      "816881171472662529 nyg_rail 西大和学園鉄道研究部(NRC)\n",
      "870566954804822016 SG_TEKKEN 成立学園 鉄道&旅行研究部\n",
      "914475410921996288 sgurailway 札幌学院大学　鉄道研究会\n",
      "886990147450843136 ks_railroad 京都産業大学鉄道愛好会(非公認)\n",
      "923911835706843137 sagacamtetudou 青山学院大学鉄道愛好会 @相模原支部\n",
      "903208144515416064 konan_rail 江◯高校鉄道愛好会（非公認）\n",
      "867670812009967617 UhsTekkenn 県立浦和高校鉄道研究会\n"
     ]
    }
   ],
   "source": [
    "import tweepy\n",
    "import TwitterAPIKey\n",
    "CK = TwitterAPIKey.CONSUMER_KEY\n",
    "CS = TwitterAPIKey.CONSUMER_SECRET\n",
    "\n",
    "\n",
    "auth = tweepy.OAuthHandler(CK,CS)\n",
    "api = tweepy.API(auth)\n",
    "\n",
    "user = api.get_user('wasedarail')\n",
    "flws = user.friends()\n",
    "for i,flw in enumerate(flws):\n",
    "    print(flw.id,flw.screen_name,flw.name)"
   ]
  },
  {
   "cell_type": "code",
   "execution_count": 16,
   "metadata": {},
   "outputs": [
    {
     "name": "stdout",
     "output_type": "stream",
     "text": [
      "2019-05-21 08:28:29 cstboy huangjinwen3 RT @huangjinwen3: @guzhuohenghk 中国有句古话叫，居安思危，你处在算是和平的年代里，但也要明白，和平是相对的，你的和平不代表世界的和平，所以要时时警醒。强化忧患意识、危机意识、打仗意识，始终把备战打仗作为第一要务、把军事训练摆在战略位置开，进一步解…\n",
      "2019-05-21 08:23:12 cstboy huangjinwen3 @guzhuohenghk 中国有句古话叫，居安思危，你处在算是和平的年代里，但也要明白，和平是相对的，你的和平不代表世界的和平，所以要时时警醒。强化忧患意识、危机意识、打仗意识，始终把备战打仗作为第一要务、把军事训练摆在战略位置… https://t.co/qn1XqchkdQ\n",
      "2019-05-21 05:44:55 张一诺 vb14VZAwfrMZtqe RT @vb14VZAwfrMZtqe: 铭记历史，不忘初心，强军富民，习近平主席主导的党中央政府，中国人民的希望，中国梦🇨🇳\n",
      "2019-05-21 05:32:38 路媛媛 havfver RT @vb14VZAwfrMZtqe: 铭记历史，不忘初心，强军富民，习近平主席主导的党中央政府，中国人民的希望，中国梦🇨🇳\n",
      "2019-05-20 11:56:16 张一诺 vb14VZAwfrMZtqe 铭记历史，不忘初心，强军富民，习近平主席主导的党中央政府，中国人民的希望，中国梦🇨🇳\n"
     ]
    }
   ],
   "source": [
    "import tweepy\n",
    "import TwitterAPIKey\n",
    "CK = TwitterAPIKey.CONSUMER_KEY\n",
    "CS = TwitterAPIKey.CONSUMER_SECRET\n",
    "\n",
    "\n",
    "auth = tweepy.OAuthHandler(CK,CS)\n",
    "api = tweepy.API(auth)\n",
    "\n",
    "keyword = '强军梦'\n",
    "search_count = 100\n",
    "search_result = api.search(keyword,count=search_count)\n",
    "for tw in search_result:\n",
    "    print(str(tw.created_at),tw.user.name,tw.user.screen_name,tw.text)"
   ]
  },
  {
   "cell_type": "code",
   "execution_count": 2,
   "metadata": {},
   "outputs": [
    {
     "name": "stdout",
     "output_type": "stream",
     "text": [
      "4\n"
     ]
    }
   ],
   "source": [
    "a=len(['a','b','c','d'])\n",
    "print(a)"
   ]
  },
  {
   "cell_type": "code",
   "execution_count": 14,
   "metadata": {},
   "outputs": [
    {
     "data": {
      "text/plain": [
       "dict_items([('Google', 'www.google.com'), ('Runoob', 'www.runoob.com'), ('taobao', 'www.taobao.com')])"
      ]
     },
     "execution_count": 14,
     "metadata": {},
     "output_type": "execute_result"
    }
   ],
   "source": [
    "dict_1 = {'Google': 'www.google.com', 'Runoob': 'www.runoob.com', 'taobao': 'www.taobao.com'}\n",
    "dict_1.items()\n"
   ]
  },
  {
   "cell_type": "code",
   "execution_count": null,
   "metadata": {},
   "outputs": [],
   "source": [
    "two_num = input('please entry two numbers')"
   ]
  }
 ],
 "metadata": {
  "kernelspec": {
   "display_name": "Python 3",
   "language": "python",
   "name": "python3"
  },
  "language_info": {
   "codemirror_mode": {
    "name": "ipython",
    "version": 3
   },
   "file_extension": ".py",
   "mimetype": "text/x-python",
   "name": "python",
   "nbconvert_exporter": "python",
   "pygments_lexer": "ipython3",
   "version": "3.7.3"
  }
 },
 "nbformat": 4,
 "nbformat_minor": 2
}
